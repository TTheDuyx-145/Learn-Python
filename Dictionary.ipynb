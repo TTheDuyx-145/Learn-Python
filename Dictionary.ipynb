{
 "cells": [
  {
   "cell_type": "markdown",
   "metadata": {},
   "source": [
    "# Intro"
   ]
  },
  {
   "cell_type": "markdown",
   "metadata": {},
   "source": [
    "giống hashmap : không có thứ tụ"
   ]
  },
  {
   "cell_type": "markdown",
   "metadata": {},
   "source": [
    "Khởi tạo"
   ]
  },
  {
   "cell_type": "code",
   "execution_count": null,
   "metadata": {},
   "outputs": [
    {
     "name": "stdout",
     "output_type": "stream",
     "text": [
      "[['ten', 'ho'], ('string', 'integer')]\n"
     ]
    }
   ],
   "source": [
    "infor = {\n",
    "        'name':'the duy',\n",
    "        'job' : 'dev',\n",
    "        'salary': 500,\n",
    "        'web': 'github',\n",
    "        'city': 'Ha Noi'\n",
    "    }\n",
    "a = [['ten', 'ho'],('string','integer')] # chua đuọc tuple\n",
    "c = dict({})\n",
    "b = dict(a) # contructor\n",
    "print(a)"
   ]
  },
  {
   "cell_type": "markdown",
   "metadata": {},
   "source": [
    "Tạo Bảng"
   ]
  },
  {
   "cell_type": "code",
   "execution_count": 3,
   "metadata": {},
   "outputs": [],
   "source": [
    "# tao bang ham zip\n",
    "c = ['name', 'lop', 'gpa']\n",
    "d = ['nva','cntt1', 3.4]\n",
    "e = dict(zip(c,d))\n",
    "# tao bang fromkey\n",
    "f = ['a','b','c']\n",
    "defaultValue = 0\n",
    "g = dict.fromkeys(f, defaultValue)"
   ]
  },
  {
   "cell_type": "markdown",
   "metadata": {},
   "source": [
    "lấy value va key"
   ]
  },
  {
   "cell_type": "code",
   "execution_count": null,
   "metadata": {},
   "outputs": [],
   "source": [
    "print(infor['name'])\n",
    "print(infor.get('name'))\n",
    "\n",
    "# lay ra moi key\n",
    "ditc1 = infor.keys() # tra ve 1 dict key\n",
    "ditc2 = infor.values() # tra ve 1 dict value\n",
    "ditc3 = infor.items() # tra ve dict gom cac tupel co ca key va value"
   ]
  },
  {
   "cell_type": "markdown",
   "metadata": {},
   "source": [
    "duyệt"
   ]
  },
  {
   "cell_type": "code",
   "execution_count": 4,
   "metadata": {},
   "outputs": [
    {
     "name": "stdout",
     "output_type": "stream",
     "text": [
      "the duy\n",
      "dev\n",
      "500\n",
      "github\n",
      "Ha Noi\n",
      "name the duy\n",
      "job dev\n",
      "salary 500\n",
      "web github\n",
      "city Ha Noi\n"
     ]
    }
   ],
   "source": [
    "for x in infor.values():\n",
    "        print(x)\n",
    "for x, y in infor.items():\n",
    "        print(x,y)"
   ]
  },
  {
   "cell_type": "markdown",
   "metadata": {},
   "source": [
    "hàm"
   ]
  },
  {
   "cell_type": "code",
   "execution_count": 5,
   "metadata": {},
   "outputs": [
    {
     "name": "stdout",
     "output_type": "stream",
     "text": [
      "True\n",
      "True\n"
     ]
    }
   ],
   "source": [
    "# them va sua : \n",
    "infor['box'] = 'tui mu'\n",
    "# xoa : pop(key), del namedict[key], popitem(),clear\n",
    "# len(): co bao nhieu cap\n",
    "\n",
    "# kiem tra su ton tai cua key hoac value: tra ve true, false\n",
    "print('job' in infor)\n",
    "print('github' in infor.values())"
   ]
  },
  {
   "cell_type": "markdown",
   "metadata": {},
   "source": [
    "dict compression"
   ]
  },
  {
   "cell_type": "code",
   "execution_count": null,
   "metadata": {},
   "outputs": [],
   "source": [
    "# dict compression\n",
    "d1 = dict({})\n",
    "# cu phap; {key : value for var in interable}\n",
    "d2 = {x: x**2 for x in a}\n",
    " # sep xep : su dung sorted\n",
    "d3 = sorted(a.items(), key = lambda x: (-x[1], x[0]))"
   ]
  }
 ],
 "metadata": {
  "kernelspec": {
   "display_name": "venv",
   "language": "python",
   "name": "python3"
  },
  "language_info": {
   "codemirror_mode": {
    "name": "ipython",
    "version": 3
   },
   "file_extension": ".py",
   "mimetype": "text/x-python",
   "name": "python",
   "nbconvert_exporter": "python",
   "pygments_lexer": "ipython3",
   "version": "3.13.7"
  }
 },
 "nbformat": 4,
 "nbformat_minor": 2
}
