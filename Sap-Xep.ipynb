{
 "cells": [
  {
   "cell_type": "markdown",
   "metadata": {},
   "source": [
    "# Intro"
   ]
  },
  {
   "cell_type": "code",
   "execution_count": 3,
   "metadata": {},
   "outputs": [],
   "source": [
    "import math\n",
    "from operator import itemgetter\n",
    "def tong(n):\n",
    "    sum = 0\n",
    "    while n != 0:\n",
    "        sum += n % 10\n",
    "        n //= 10\n",
    "    return sum\n",
    "def getItem(a):\n",
    "    return a[0], a[1]\n",
    "a = [1,4,2,3,5]"
   ]
  },
  {
   "cell_type": "markdown",
   "metadata": {},
   "source": [
    "cú pháp"
   ]
  },
  {
   "cell_type": "markdown",
   "metadata": {},
   "source": [
    "\n",
    "+ a.sort(key = ... , reverse = ...)\n",
    "+ key : day la ham su  dung de lam tieu chi sap xep\n",
    "+ reverse : True thi se sap xep theo thu tu nguoc \n",
    "+ note: Ham sort khong tra ve gia tri nao ca ma thay doi truc tiep list"
   ]
  },
  {
   "cell_type": "code",
   "execution_count": 4,
   "metadata": {},
   "outputs": [
    {
     "name": "stdout",
     "output_type": "stream",
     "text": [
      "[[1, 2], [3, 4], [9, 8]]\n",
      "{'name': 'Nguyen Van A', 'job': 'Dev', 'Salary': 500}\n",
      "{'name': 'Nguyen Van B', 'job': 'Dev', 'Salary': 1500}\n"
     ]
    }
   ],
   "source": [
    "a.sort(key = tong)\n",
    "a.sort(key = lambda x: x**2)\n",
    "b = [[1,2], [3,4], [9,8]]\n",
    "b.sort(key = getItem)\n",
    "b.sort(key = lambda x: (x[0],x[1]))\n",
    "print(b)\n",
    "\n",
    "c = [{'name': 'Nguyen Van A', 'job': 'Dev', 'Salary': 500},\n",
    "         {'name': 'Nguyen Van B','job': 'Dev', 'Salary': 1500}]\n",
    "c.sort(key = lambda x: x.get('Salary'))\n",
    "for x in c:\n",
    "        print(x)"
   ]
  },
  {
   "cell_type": "markdown",
   "metadata": {},
   "source": [
    "itemgetter and attrgetter\n",
    "   "
   ]
  },
  {
   "cell_type": "code",
   "execution_count": 5,
   "metadata": {},
   "outputs": [],
   "source": [
    "\n",
    "b.sort(key = itemgetter(1)) # sap xep theo tieu chi 1 \n",
    "\n",
    "#sorted() : tra ve mot list moi nhung ban than list ban dau khong thay doi\n",
    "#key, reverse khong co gi khac so  voi sort"
   ]
  }
 ],
 "metadata": {
  "kernelspec": {
   "display_name": "venv",
   "language": "python",
   "name": "python3"
  },
  "language_info": {
   "codemirror_mode": {
    "name": "ipython",
    "version": 3
   },
   "file_extension": ".py",
   "mimetype": "text/x-python",
   "name": "python",
   "nbconvert_exporter": "python",
   "pygments_lexer": "ipython3",
   "version": "3.13.7"
  }
 },
 "nbformat": 4,
 "nbformat_minor": 2
}
