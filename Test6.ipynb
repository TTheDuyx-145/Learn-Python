{
 "cells": [
  {
   "cell_type": "markdown",
   "metadata": {},
   "source": [
    "# Contest6"
   ]
  },
  {
   "cell_type": "markdown",
   "metadata": {},
   "source": [
    "+ bài 12: đếm tần xuất nguyên tố"
   ]
  },
  {
   "cell_type": "code",
   "execution_count": null,
   "metadata": {},
   "outputs": [],
   "source": [
    "import math\n",
    "def nto(n):\n",
    "    for i in range(2,math.isqrt(n) + 1):\n",
    "        if n % i == 0:\n",
    "            return False\n",
    "    return n > 1\n",
    "cnt = [0]*10**6\n",
    "if __name__=='__main__':\n",
    "    a = list(map(int,input().split()))\n",
    "    for x in a:\n",
    "        if nto(x):\n",
    "            cnt[x] += 1\n",
    "    for x in a:\n",
    "        if cnt[x] != 0:\n",
    "            print(x , cnt[x])\n",
    "            cnt[x] = 0"
   ]
  },
  {
   "cell_type": "markdown",
   "metadata": {},
   "source": [
    "+ bài 13: BRT"
   ]
  },
  {
   "cell_type": "code",
   "execution_count": null,
   "metadata": {},
   "outputs": [
    {
     "name": "stdout",
     "output_type": "stream",
     "text": [
      "2 1\n"
     ]
    }
   ],
   "source": [
    "if __name__=='__main__':\n",
    "    n = int(input())\n",
    "    a = list(map(int,input().split()))\n",
    "    a.sort()\n",
    "    kc, cnt = 10**9,0\n",
    "    for i in range(1,n):\n",
    "        if a[i] - a[i-1] < kc:\n",
    "            kc = a[i] - a[i-1]\n",
    "            cnt = 1\n",
    "        elif a[i] - a[i - 1] == kc:\n",
    "            cnt += 1\n",
    "    print(kc,cnt)"
   ]
  },
  {
   "cell_type": "markdown",
   "metadata": {},
   "source": [
    "+ Bài 14: Định lý Pytago"
   ]
  },
  {
   "cell_type": "code",
   "execution_count": null,
   "metadata": {},
   "outputs": [
    {
     "name": "stdout",
     "output_type": "stream",
     "text": [
      "YES\n"
     ]
    }
   ],
   "source": [
    "if __name__=='__main__':\n",
    "    n = int(input())\n",
    "    a = list(map(lambda x: int(x)**2,input().split())) # binh phuong day\n",
    "    a.sort()\n",
    "    ok = False\n",
    "    # gap nhau o giua\n",
    "    for i in range(n-1, 1, -1):\n",
    "        c = a[i]\n",
    "        l,r = 0,i-1\n",
    "        while l < r:\n",
    "            if a[l] + a[r] == c:\n",
    "                ok = True\n",
    "                break\n",
    "            elif a[l] + a[r] < c:\n",
    "                l += 1\n",
    "            else: r -= 1\n",
    "    print(\"YES\" if ok else \"NO\")\n"
   ]
  },
  {
   "cell_type": "markdown",
   "metadata": {},
   "source": [
    "+ Bài 15: Truy vấn tổng trên đoạn"
   ]
  },
  {
   "cell_type": "code",
   "execution_count": null,
   "metadata": {},
   "outputs": [
    {
     "name": "stdout",
     "output_type": "stream",
     "text": [
      "6\n"
     ]
    }
   ],
   "source": [
    "# dùng mảng cộng dồn\n",
    "dp = [0]*1001\n",
    "if __name__=='__main__':\n",
    "    n = int(input())\n",
    "    a = list(map(int,input().split()))\n",
    "    sum = 0\n",
    "    for i in range(n):\n",
    "        sum += a[i]\n",
    "        dp[i + 1] = sum\n",
    "    q = int(input())\n",
    "    for _ in range(q):\n",
    "        l , r = map(int,input().split())\n",
    "        if l == 1:\n",
    "            print(dp[r])\n",
    "        else:\n",
    "            print(dp[r] - dp[l-1])\n"
   ]
  },
  {
   "cell_type": "markdown",
   "metadata": {},
   "source": [
    "+ Bài 16: Đếm số lượng cặp số bằng nhau trong mảng"
   ]
  },
  {
   "cell_type": "code",
   "execution_count": null,
   "metadata": {},
   "outputs": [
    {
     "name": "stdout",
     "output_type": "stream",
     "text": [
      "4\n"
     ]
    }
   ],
   "source": [
    "if __name__=='__main__':\n",
    "    n = int(input())\n",
    "    a = list(map(int,input().split()))\n",
    "    d = dict({})\n",
    "    for x in a:\n",
    "        if x in d:\n",
    "            d[x] += 1\n",
    "        else:\n",
    "            d[x] = 1\n",
    "    ans = 0\n",
    "    for x,y in d.items():\n",
    "        if y >= 2:\n",
    "            ans += y*(y-1)// 2\n",
    "    print(ans)"
   ]
  },
  {
   "cell_type": "markdown",
   "metadata": {},
   "source": [
    "Bài 17: Sliding window"
   ]
  },
  {
   "cell_type": "code",
   "execution_count": null,
   "metadata": {},
   "outputs": [
    {
     "name": "stdout",
     "output_type": "stream",
     "text": [
      "19\n",
      "8 5 6 "
     ]
    }
   ],
   "source": [
    "if __name__=='__main__':\n",
    "    n,k = map(int,input().split())\n",
    "    a = list(map(int,input().split()))\n",
    "    #ans = sum(a[0:k])\n",
    "    idx = 0\n",
    "    for i in range(k,n):\n",
    "        if ans - a[i - k] + a[i] > ans:\n",
    "            ans = ans - a[i - k] + a[i]\n",
    "            idx = i\n",
    "    print(ans)\n",
    "    for i in range(k):\n",
    "        print(a[idx - k + i + 1], end = \" \")"
   ]
  },
  {
   "cell_type": "markdown",
   "metadata": {},
   "source": [
    "Bài 18: Số đầu tiên bị lặp"
   ]
  },
  {
   "cell_type": "code",
   "execution_count": 6,
   "metadata": {},
   "outputs": [
    {
     "name": "stdout",
     "output_type": "stream",
     "text": [
      "2\n"
     ]
    }
   ],
   "source": [
    "if __name__=='__main__':\n",
    "    n = int(input())\n",
    "    a = list(map(int,input().split()))\n",
    "    se = set({})\n",
    "    for x in a:\n",
    "        if x in se:\n",
    "            print(x)\n",
    "            break\n",
    "        else:\n",
    "            se.add(x)"
   ]
  },
  {
   "cell_type": "markdown",
   "metadata": {},
   "source": [
    "+ Bài 19: Trộn 2 dãy và sắp xếp"
   ]
  },
  {
   "cell_type": "code",
   "execution_count": 8,
   "metadata": {},
   "outputs": [
    {
     "name": "stdout",
     "output_type": "stream",
     "text": [
      "1 8 2 6 4 5 7 2 "
     ]
    }
   ],
   "source": [
    "if __name__=='__main__':\n",
    "    n = int(input())\n",
    "    A = list(map(int,input().split()))\n",
    "    B = list(map(int,input().split()))\n",
    "    A.sort()\n",
    "    B.sort(reverse=True)\n",
    "    for i in range(n):\n",
    "        print(A[i],B[i], end = \" \")\n"
   ]
  },
  {
   "cell_type": "markdown",
   "metadata": {},
   "source": [
    "+ Bài 20: Vị trí đầu tiên và cuối cùng"
   ]
  },
  {
   "cell_type": "code",
   "execution_count": null,
   "metadata": {},
   "outputs": [
    {
     "name": "stdout",
     "output_type": "stream",
     "text": [
      "-1\n"
     ]
    }
   ],
   "source": [
    "if __name__=='__main__':\n",
    "    n,k = map(int,input().split())\n",
    "    a = list(map(int,input().split()))\n",
    "    idx1,idx2 = -1, -1\n",
    "    for i  in range(n):\n",
    "        if a[i] == k and idx1 == -1:\n",
    "            idx1 = i\n",
    "        elif a[i] == k and idx1 != -1:\n",
    "            idx2 = i\n",
    "    if idx1 != -1:\n",
    "        print(idx1 + 1,idx2 + 1)\n",
    "    else:\n",
    "        print(-1)"
   ]
  },
  {
   "cell_type": "markdown",
   "metadata": {},
   "source": [
    "+ Bài 21: Mảng 012"
   ]
  },
  {
   "cell_type": "code",
   "execution_count": 17,
   "metadata": {},
   "outputs": [
    {
     "name": "stdout",
     "output_type": "stream",
     "text": [
      "0 1 1 1 2 "
     ]
    }
   ],
   "source": [
    "cnt = [0]*3\n",
    "if __name__=='__main__':\n",
    "    n = int(input())\n",
    "    a = list(map(int,input().split()))\n",
    "    for x in a:\n",
    "        cnt[x] += 1\n",
    "    for i in range(3):\n",
    "        while cnt[i] > 0:\n",
    "            print(i, end = \" \")\n",
    "            cnt[i] -= 1 "
   ]
  },
  {
   "cell_type": "markdown",
   "metadata": {},
   "source": [
    "+ Bài 22: Số thao tác giúp mảng tăng dần 2"
   ]
  },
  {
   "cell_type": "code",
   "execution_count": 21,
   "metadata": {},
   "outputs": [
    {
     "name": "stdout",
     "output_type": "stream",
     "text": [
      "3\n"
     ]
    }
   ],
   "source": [
    "if __name__=='__main__':\n",
    "    n,d = map(int,input().split())\n",
    "    a = list(map(int,input().split()))\n",
    "    ans = 0\n",
    "    for i in range(1,n):\n",
    "        if a[i] < a[i-1]:\n",
    "            tmp = a[i-1] -a[i]\n",
    "            ans += tmp // d + 1\n",
    "            a[i] = tmp + d\n",
    "    print(ans)\n"
   ]
  },
  {
   "cell_type": "markdown",
   "metadata": {},
   "source": [
    "+ Bài 23: Product sum"
   ]
  },
  {
   "cell_type": "code",
   "execution_count": 25,
   "metadata": {},
   "outputs": [
    {
     "name": "stdout",
     "output_type": "stream",
     "text": [
      "40\n"
     ]
    }
   ],
   "source": [
    "if __name__=='__main__':\n",
    "    n = int(input())\n",
    "    a = list(map(int,input().split()))\n",
    "    a.sort()\n",
    "    sum = 0\n",
    "    for i in range(n):\n",
    "        sum += (a[i]%(10**9+7))*(i%(10**9+7))%(10**9+7)\n",
    "    print(sum)"
   ]
  },
  {
   "cell_type": "markdown",
   "metadata": {},
   "source": [
    "+ Bài 24: Chia tập"
   ]
  },
  {
   "cell_type": "code",
   "execution_count": 36,
   "metadata": {},
   "outputs": [
    {
     "name": "stdout",
     "output_type": "stream",
     "text": [
      "27\n"
     ]
    }
   ],
   "source": [
    "if __name__=='__main__':\n",
    "    n, k = map(int,input().split())\n",
    "    a = list(map(int,input().split()))\n",
    "    sum1,sum2= 0, 0\n",
    "    if n - k > k:\n",
    "        a.sort()\n",
    "        sum2 = sum(a[k:n])\n",
    "        sum1 = sum(a[0:k])\n",
    "    else:\n",
    "        a.sort(reverse=True)\n",
    "        for i in range(k):\n",
    "            sum2 += a[i]\n",
    "        for i in range(k,n):\n",
    "            sum1 += a[i]\n",
    "    print(sum2 - sum1)"
   ]
  }
 ],
 "metadata": {
  "kernelspec": {
   "display_name": "venv",
   "language": "python",
   "name": "python3"
  },
  "language_info": {
   "codemirror_mode": {
    "name": "ipython",
    "version": 3
   },
   "file_extension": ".py",
   "mimetype": "text/x-python",
   "name": "python",
   "nbconvert_exporter": "python",
   "pygments_lexer": "ipython3",
   "version": "3.13.7"
  }
 },
 "nbformat": 4,
 "nbformat_minor": 2
}
