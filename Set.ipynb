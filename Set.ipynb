{
 "cells": [
  {
   "cell_type": "markdown",
   "metadata": {},
   "source": [
    "# Intro"
   ]
  },
  {
   "cell_type": "markdown",
   "metadata": {},
   "source": [
    "set không có thứ tự"
   ]
  },
  {
   "cell_type": "markdown",
   "metadata": {},
   "source": [
    "Khởi tạo"
   ]
  },
  {
   "cell_type": "code",
   "execution_count": 2,
   "metadata": {},
   "outputs": [],
   "source": [
    "s ={\"php\",\"c++\", \"python\"}\n",
    "s = set({})"
   ]
  },
  {
   "cell_type": "code",
   "execution_count": 3,
   "metadata": {},
   "outputs": [],
   "source": [
    " # set constructor\n",
    "a = [1,2,3,1,2]\n",
    "set1 = set(a)"
   ]
  },
  {
   "cell_type": "markdown",
   "metadata": {},
   "source": [
    "Hàm "
   ]
  },
  {
   "cell_type": "code",
   "execution_count": null,
   "metadata": {},
   "outputs": [],
   "source": [
    "a = [1,2,3,1,2]\n",
    "set1 = set(a)\n",
    "# them 1 ptu\n",
    "set1.add(\"abc\")\n",
    "# them nhieu ptu\n",
    "set1.update([100,200,500])\n",
    "\n",
    "# xoa : remove(), discard(), pop(),clear\n",
    "# remove(): xoa ptu nam trong a ngoai loi( xoa theo gtri)\n",
    "# dicard(): xoa ptu trong nhung o ngoai thi thoi (xoa theo gia tri)\n",
    "# pop() : xoa 1 ptu ngau nhien\n",
    "# clear xoa het\n",
    "\n",
    "# ghep :\n",
    "b = {\"c++\",\"python\",\"java\"}\n",
    "c = {\"php\",\"c#\",\"js\", \"python\"}\n",
    "# Union :Phep hop lay ra ptu trong 2 tap hop\n",
    "u = b.union(c)\n",
    "v = b | c\n",
    "# intersection : Phep giao\n",
    "u1 = b.intersection(c)\n",
    "v2 = b & c\n",
    "# difference : thuoc 1 ma khong thuoc 2\n",
    "u2 = b.difference(c)\n",
    "v2 = b - c\n",
    "# Symmetric difference : lay 1 va 2 bo 1 & 2\n",
    "u3 = b.symmetric_difference(c)\n",
    "v3 = b ^ c\n",
    "\n",
    "# cac ham pho bien \n",
    "# isdisjoint() : xac dinh xem 2 tap co phan tu chung nao khong(True, False)\n",
    "# issubset(): tap 1 co phai tap con cua 2 ko\n",
    "# issuperset() : 1 co phai cha cua 2 ko"
   ]
  }
 ],
 "metadata": {
  "kernelspec": {
   "display_name": "venv",
   "language": "python",
   "name": "python3"
  },
  "language_info": {
   "codemirror_mode": {
    "name": "ipython",
    "version": 3
   },
   "file_extension": ".py",
   "mimetype": "text/x-python",
   "name": "python",
   "nbconvert_exporter": "python",
   "pygments_lexer": "ipython3",
   "version": "3.13.7"
  }
 },
 "nbformat": 4,
 "nbformat_minor": 2
}
