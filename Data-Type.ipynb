{
 "cells": [
  {
   "cell_type": "markdown",
   "metadata": {},
   "source": [
    "# Math"
   ]
  },
  {
   "cell_type": "code",
   "execution_count": null,
   "metadata": {},
   "outputs": [],
   "source": [
    "import math\n",
    "math.sqrt(16)\n",
    "math.pi\n",
    "math.ceil(3.7)  # làm tròn lên\n",
    "math.floor(3.7) # làm tròn xuống\n",
    "math.pow(2,3)   # lũy thừa"
   ]
  },
  {
   "cell_type": "markdown",
   "metadata": {},
   "source": [
    "# Prinnt"
   ]
  },
  {
   "cell_type": "code",
   "execution_count": 1,
   "metadata": {},
   "outputs": [
    {
     "name": "stdout",
     "output_type": "stream",
     "text": [
      "Xin chao_Python\n"
     ]
    }
   ],
   "source": [
    "print(\"Xin chao\", \"Python\", sep = \"_\", end = \"\\n\")"
   ]
  },
  {
   "cell_type": "markdown",
   "metadata": {},
   "source": [
    "# Input"
   ]
  },
  {
   "cell_type": "code",
   "execution_count": 2,
   "metadata": {},
   "outputs": [
    {
     "name": "stdout",
     "output_type": "stream",
     "text": [
      "1\n",
      "2 3\n"
     ]
    }
   ],
   "source": [
    "e = input() # doc het mot dong\n",
    "print(e)\n",
    "# nhap x so tren dong\n",
    "x,y  = map(int,input().split())\n",
    "print(x,y)\n",
    "#!/usr/bin/env python3"
   ]
  },
  {
   "cell_type": "markdown",
   "metadata": {},
   "source": [
    "# Bien va kieu du lieu"
   ]
  },
  {
   "cell_type": "code",
   "execution_count": 3,
   "metadata": {},
   "outputs": [
    {
     "name": "stdout",
     "output_type": "stream",
     "text": [
      "100 vietnam\n"
     ]
    }
   ],
   "source": [
    "# tu gan kieu du lieu cho bien\n",
    "a = 100\n",
    "s = \"vietnam\"\n",
    "print(a,s)"
   ]
  },
  {
   "cell_type": "code",
   "execution_count": 4,
   "metadata": {},
   "outputs": [
    {
     "name": "stdout",
     "output_type": "stream",
     "text": [
      "<class 'int'> <class 'float'> <class 'complex'>\n",
      "5.30\n",
      "5.3\n",
      "day la noi dung cua \n",
      "sau t\n",
      "12\n"
     ]
    }
   ],
   "source": [
    "# Kieu du lieu : \n",
    "# so nguyen, thuc, phuc\n",
    "x = 100 # xu ly dc so nguyen lon\n",
    "y = 5.3 # max 1.8*10^308\n",
    "z = 6+3j # phan thuc(real) phan ao(imag)\n",
    "print(type(x), type(y), type(z))\n",
    "# in ra x sua dau phay\n",
    "print(\"%.2f\" % y)\n",
    "print(round(y,3))\n",
    "# True, Flase\n",
    "m = True\n",
    "n = False\n",
    "#str\n",
    "st = 'hello'\n",
    "t = \"\"\"day la noi dung cua \n",
    "sau t\"\"\"\n",
    "print(t)\n",
    "\n",
    "# Type casting (ep kieu du lieu)\n",
    "f = 12.8\n",
    "d = int(f)\n",
    "print(d)"
   ]
  }
 ],
 "metadata": {
  "kernelspec": {
   "display_name": "venv",
   "language": "python",
   "name": "python3"
  },
  "language_info": {
   "codemirror_mode": {
    "name": "ipython",
    "version": 3
   },
   "file_extension": ".py",
   "mimetype": "text/x-python",
   "name": "python",
   "nbconvert_exporter": "python",
   "pygments_lexer": "ipython3",
   "version": "3.13.7"
  }
 },
 "nbformat": 4,
 "nbformat_minor": 2
}
