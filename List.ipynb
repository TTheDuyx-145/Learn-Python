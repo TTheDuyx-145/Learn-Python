{
 "cells": [
  {
   "cell_type": "markdown",
   "metadata": {},
   "source": [
    "# Giới thiệu"
   ]
  },
  {
   "cell_type": "markdown",
   "metadata": {},
   "source": [
    "List tương tự như cấu trúc dữ liệu mảng nhưng linh hoat va mạnh mẽ hơn\n",
    "+ có thứ tự\n",
    "+ truy cập thông qua chỉ số\n",
    "+ chuaw bất kể các laoị đối tượng trong py\n",
    "+ có thể thay đổi được"
   ]
  },
  {
   "cell_type": "markdown",
   "metadata": {},
   "source": [
    "# Intro"
   ]
  },
  {
   "cell_type": "markdown",
   "metadata": {},
   "source": [
    "khởi tạo"
   ]
  },
  {
   "cell_type": "code",
   "execution_count": null,
   "metadata": {},
   "outputs": [
    {
     "name": "stdout",
     "output_type": "stream",
     "text": [
      "[1, 2, 3, 'apple', 'amazon']\n"
     ]
    }
   ],
   "source": [
    "a = [1,2,3,\"apple\", \"amazon\"]\n",
    "print(a)\n",
    "b = []"
   ]
  },
  {
   "cell_type": "markdown",
   "metadata": {},
   "source": [
    "Nhap"
   ]
  },
  {
   "cell_type": "code",
   "execution_count": null,
   "metadata": {},
   "outputs": [],
   "source": [
    "n = int(input())\n",
    "a = list(map(int,input().split()))\n"
   ]
  },
  {
   "cell_type": "markdown",
   "metadata": {},
   "source": [
    "duyệt"
   ]
  },
  {
   "cell_type": "code",
   "execution_count": null,
   "metadata": {},
   "outputs": [],
   "source": [
    "a = [1,2,3,\"apple\", \"amazon\"]\n",
    "for i in range(len(a)):\n",
    "        print(a[i])\n",
    "    # for each\n",
    "for item in a:\n",
    "    print(item)"
   ]
  },
  {
   "cell_type": "markdown",
   "metadata": {},
   "source": [
    "hàm "
   ]
  },
  {
   "cell_type": "code",
   "execution_count": null,
   "metadata": {},
   "outputs": [],
   "source": [
    "# them ptu list _ append(...): them ptu vao cuoi\n",
    "a.append(100)\n",
    "print(a)\n",
    "# insert(chi so, ...)\n",
    "a.insert(2, 14)\n",
    "print(a)\n",
    "# xoa phan tu khoi list: chi so hop le\n",
    "a.pop() # xoa phan tu cuoi cung\n",
    "a.pop(2) # xoa phan tu o vtri 2\n",
    "del a[1]\n",
    "# remove : xoa thong qua gia tri co nhieu ptu giong nhau chi xoa ptu dau tien\n",
    "a.remove(1)\n",
    "# clear : xoa het\n",
    "# sao chep list a = [1,2,3] -> a*2 = [1,2,3,1,2,3]\n",
    "c = [None]*1000\n",
    "print(c)\n",
    "# sao chep e = a -> id giong nhau vc thay doi e cung thay doi a\n",
    "d = a.copy() # dung copy de id khac nhau \n",
    "# toan tu in\n",
    "if item in a: # kem tra xem ptu co nam trong list ko\n",
    "    print(\"YES\")\n",
    "# combine list : noi list\n",
    "a.extend(b)\n",
    "a += b"
   ]
  },
  {
   "cell_type": "markdown",
   "metadata": {},
   "source": [
    "cac phuong thuc:\n",
    "+ count(gtri) tra ve so lan xua hien cua 1 phan tu trong list\n",
    "+ index() tra ve tri so dau tien cua 1 ptu trong list\n",
    "+ reverse :  lat nguoc list\n",
    "+ sort : sap xep list\n",
    "+ min(a), max(a), sum(a) : ptu max, min, tong cac ptu trong list\n"
   ]
  },
  {
   "cell_type": "markdown",
   "metadata": {},
   "source": [
    "# List SLICING"
   ]
  },
  {
   "cell_type": "markdown",
   "metadata": {},
   "source": [
    "cắt mảng"
   ]
  },
  {
   "cell_type": "markdown",
   "metadata": {},
   "source": [
    "cú pháp\n"
   ]
  },
  {
   "cell_type": "code",
   "execution_count": 3,
   "metadata": {},
   "outputs": [
    {
     "name": "stdout",
     "output_type": "stream",
     "text": [
      "[2, 3, 4, 5]\n",
      "[5, 4, 3, 2, 1]\n"
     ]
    }
   ],
   "source": [
    "a = [1,2,3,4,5]\n",
    "b = a[1:5:1] # khong lay can cuoi\n",
    "c = a[::-1] # lat nguoc\n",
    "print(b)\n",
    "print(c)"
   ]
  },
  {
   "cell_type": "markdown",
   "metadata": {},
   "source": [
    "thay đổi nhiều giá trị"
   ]
  },
  {
   "cell_type": "code",
   "execution_count": null,
   "metadata": {},
   "outputs": [],
   "source": [
    "a[1:4] = [100,200,300]"
   ]
  },
  {
   "cell_type": "markdown",
   "metadata": {},
   "source": [
    "xoa"
   ]
  },
  {
   "cell_type": "code",
   "execution_count": null,
   "metadata": {},
   "outputs": [],
   "source": [
    "a[1:4] = []"
   ]
  },
  {
   "cell_type": "markdown",
   "metadata": {},
   "source": [
    "them"
   ]
  },
  {
   "cell_type": "code",
   "execution_count": 4,
   "metadata": {},
   "outputs": [
    {
     "name": "stdout",
     "output_type": "stream",
     "text": [
      "[10, 20, 30, 'x', 'y', 'z']\n",
      "[10, 20, 30, 'x', 'y', 'z', 10, 20, 30]\n"
     ]
    }
   ],
   "source": [
    "# them vao dau list\n",
    "d = ['x','y','z']\n",
    "d[:0] = [10,20,30]\n",
    "print(d)\n",
    "#them vao cuoi list\n",
    "d[len(d):] = [10,20,30]\n",
    "print(d)\n",
    "e = a[:] # copy nd"
   ]
  },
  {
   "cell_type": "markdown",
   "metadata": {},
   "source": [
    "# List Compression"
   ]
  },
  {
   "cell_type": "markdown",
   "metadata": {},
   "source": [
    "cú pháp"
   ]
  },
  {
   "cell_type": "code",
   "execution_count": 5,
   "metadata": {},
   "outputs": [
    {
     "name": "stdout",
     "output_type": "stream",
     "text": [
      "[0, 1, 4, 9, 16]\n",
      "[112, 121, 116, 104, 111, 110]\n"
     ]
    }
   ],
   "source": [
    "# [Expression(Bieu thuc xu ly) for var in iterable(list,tupel, str,range)]\n",
    "a = list(range(0,5))\n",
    "b = [x**2 for x in a]\n",
    "print(b)\n",
    "s = \"python\"\n",
    "c = [ord(x) for x in s]\n",
    "print(c)"
   ]
  },
  {
   "cell_type": "markdown",
   "metadata": {},
   "source": [
    "kết hợp với câu lệnh if"
   ]
  },
  {
   "cell_type": "code",
   "execution_count": 6,
   "metadata": {},
   "outputs": [
    {
     "name": "stdout",
     "output_type": "stream",
     "text": [
      "[0, 2, 4]\n"
     ]
    }
   ],
   "source": [
    "# [Expression for var in iterable if_clause]\n",
    "a = list(range(5))\n",
    "d = [x*1 for x in a if x % 2 == 0]\n",
    "print(d)"
   ]
  }
 ],
 "metadata": {
  "kernelspec": {
   "display_name": "venv",
   "language": "python",
   "name": "python3"
  },
  "language_info": {
   "codemirror_mode": {
    "name": "ipython",
    "version": 3
   },
   "file_extension": ".py",
   "mimetype": "text/x-python",
   "name": "python",
   "nbconvert_exporter": "python",
   "pygments_lexer": "ipython3",
   "version": "3.13.7"
  }
 },
 "nbformat": 4,
 "nbformat_minor": 2
}
